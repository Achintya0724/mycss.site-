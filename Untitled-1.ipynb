{
 "cells": [
  {
   "cell_type": "code",
   "execution_count": null,
   "metadata": {
    "vscode": {
     "languageId": "html"
    }
   },
   "outputs": [],
   "source": [
    "<!DOCTYPE html>\n",
    "<html lang=\"en\">\n",
    "<head>\n",
    "  <meta charset=\"UTF-8\">\n",
    "  <meta name=\"viewport\" content=\"width=device-width, initial-scale=1.0\">\n",
    "  <title>Portfolio</title>\n",
    "  <link rel=\"stylesheet\" href=\"style.css\">\n",
    "</head>\n",
    "<body>\n",
    "  <header>\n",
    "    <h1>John Doe</h1>\n",
    "    <h2>Software Engineer</h2>\n",
    "    <nav>\n",
    "      <a href=\"#\">Home</a>\n",
    "      <a href=\"#\">About</a>\n",
    "      <a href=\"#\">Projects</a>\n",
    "      <a href=\"#\">Contact</a>\n",
    "    </nav>\n",
    "  </header>\n",
    "</body>\n",
    "</html>"
   ]
  },
  {
   "cell_type": "code",
   "execution_count": null,
   "metadata": {
    "vscode": {
     "languageId": "css"
    }
   },
   "outputs": [],
   "source": [
    "header {\n",
    "    background-color: #000;\n",
    "    color: #fff;\n",
    "    padding: 1rem;\n",
    "  }\n",
    "  \n",
    "  h1 {\n",
    "    font-size: 3rem;\n",
    "    margin-bottom: 0.5rem;\n",
    "  }\n",
    "  \n",
    "  h2 {\n",
    "    font-size: 2rem;\n",
    "    margin-bottom: 1rem;\n",
    "  }\n",
    "  \n",
    "  nav {\n",
    "    display: flex;\n",
    "    justify-content: space-between;\n",
    "  }\n",
    "  \n",
    "  a {\n",
    "    color: #fff;\n",
    "    text-decoration: none;\n",
    "  }\n",
    "  \n",
    "  a:hover {\n",
    "    color: #ccc;\n",
    "  }"
   ]
  }
 ],
 "metadata": {
  "language_info": {
   "name": "python"
  },
  "orig_nbformat": 4
 },
 "nbformat": 4,
 "nbformat_minor": 2
}
